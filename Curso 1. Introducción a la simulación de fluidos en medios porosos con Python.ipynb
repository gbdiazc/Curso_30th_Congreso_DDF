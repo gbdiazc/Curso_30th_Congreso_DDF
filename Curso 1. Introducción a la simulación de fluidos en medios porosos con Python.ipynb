{
 "cells": [
  {
   "cell_type": "markdown",
   "metadata": {},
   "source": [
    "<center>\n",
    "\n",
    "# 30vo. CONGRESO DE LA DIVISIÓN DE DINÁMICA DE FLUIDOS - SMF\n",
    "\n",
    "\n",
    "## Curso 1 Introducción a la simulación de fluidos en medios porosos con Python\n",
    "\n",
    "### Dra. Gabriela Berenice Díaz Cortés, IMP (gbdiaz@imp.mx)\n",
    "\n",
    "### Mtra. Zoila Sanchez Lopez, IMP  (poszsanchez@imp.mx)"
   ]
  },
  {
   "cell_type": "markdown",
   "metadata": {
    "id": "yE0B1OR_oOIg"
   },
   "source": [
    "# Python\n",
    "Python es un lenguaje de programación libre orientado a objetos, desarrollado a finales de los 80's. Desde su creción se sigue desarrollando y refinando.\n",
    "Algunas referencias son:\n",
    "* Sitio web con manuales y más información: https://www.python.org/about/\n",
    "* Introduction to Python for Computational Science and Engineering, Hans Fangohr\n",
    "* Python, Chris Fehly (Peachpit Press, CA, 2nd ed.)\n",
    "* Python Essential Reference, David M. Beazley (Addison-Wesley, 4th ed.)\n",
    "* Primer on Scientific Programming with Python, Hans P. Langtangen (Springer-Verlag, 2009)"
   ]
  },
  {
   "cell_type": "markdown",
   "metadata": {
    "id": "rejB2tPgoOIh"
   },
   "source": [
    "## Instalación\n",
    "Para correr un código escrito en Python se recomienda usar un IDE, que es un entorno de programación integrada. Los IDE's incluyen un editor de código, un compilador, un depurador y un entorno gráfico.\n",
    "\n",
    "En este curso usaremos la distribución gratuita [Anaconda][], que contiene el IDE Spyder y el block de notas [Jupyter][], que es un ambiente computacional interactivo, en donde se combina texto, se ejecuta codigo, y se obtienen graficas. Instalar la versión [Python 3.7][] siguiendo los pasos del instalador (https://www.anaconda.com/distribution/).\n",
    "\n",
    "Para utilizar el block de notas [Jupyter][], se pueden consultar los siguientes manuales: [Jupyter_manual] y [Jupyter-notebook].\n",
    "\n",
    "[Spyder]:   https://www.spyder-ide.org/\n",
    "[Anaconda]: https://www.anaconda.com/\n",
    "[Jupyter]:  https://jupyter.org/\n",
    "[Python 3.7]: https://repo.anaconda.com/archive/Anaconda3-2019.03-MacOSX-x86_64.pkg\n",
    "[Jupyter_manual]: https://jupyter.brynmawr.edu/services/public/dblank/Jupyter%20Notebook%20Users%20Manual.ipynb\n",
    "[Jupyter-notebook]:https://buildmedia.readthedocs.org/media/pdf/jupyter-notebook/latest/jupyter-notebook.pdf\n",
    "[IBM_Jupyter]: https://www.ibm.com/support/knowledgecenter/en/SSGNPV_1.1.3/dsx/markd-jupyter.html\n",
    "[Other]: https://sourceforge.net/p/jupiter/wiki/markdown_syntax/"
   ]
  },
  {
   "cell_type": "markdown",
   "metadata": {
    "id": "iPMovILvoOIi"
   },
   "source": [
    "## Definición de variables\n",
    "En python se pueden usar variables tipo entero, flotantes, caractéres, etc. Para definir una variable como flotante se usa un punto (__numero.0__ ), y para caractéres se usan comillas (**'carácter'** o **''carácter''**). Para ver que tipo de variable es, se utiliza la funcyón **type**."
   ]
  },
  {
   "cell_type": "code",
   "execution_count": null,
   "metadata": {
    "id": "noRN0jSooOIi",
    "outputId": "bd53604b-4bea-4b28-8286-b7763db90cd2"
   },
   "outputs": [],
   "source": [
    "b = 2       # b entero\n",
    "print(b, type(b))\n",
    "b = 2.0     # b flotante\n",
    "print(b, type(b))\n",
    "b = 'Hola 2.0'   # b es un caracter\n",
    "print(b, type(b))"
   ]
  },
  {
   "cell_type": "markdown",
   "metadata": {
    "id": "ExjpjbGboOIm"
   },
   "source": [
    "## Objetos en Python\n",
    "Python tiene dos tipos de objetos para manejar varios números o secuencias de caractéres.\n",
    "* **Listas: b = [0, 1, 2, 3, 'cuatro', 'cinco']**\n",
    "* **Tuplas (Tuples): b = (0, 1, 2, 3, 4, 5)**\n",
    "\n",
    "En Python, el primer elemento es el cero **(0)**, si la lista o el carácter contiene **(N)** elementos, el último elemento es el __N-1__. Un elemento de una lista o un carácter se obtiene usando parentesis cuadrados (**variable[numero de elemento]**). La principal diferencia entre una tupla y una lista, es que las tuplas son inmutables, es decir nos e pueden modificar.  \n"
   ]
  },
  {
   "cell_type": "code",
   "execution_count": null,
   "metadata": {
    "id": "W-93Y9lMoOIn",
    "outputId": "0f45a433-7234-449a-f01a-59fc3ace68f0"
   },
   "outputs": [],
   "source": [
    "# Listas\n",
    "List  = ['string', 1, 2]                # Crear una lista\n",
    "print(List)\n",
    "print(List[0])                          # Selecciona el primer elemento de la lista\n",
    "print(List[2])                          # Selecciona el último elemento de la lista\n",
    "print(List[0:2])                        # Selecciona los primeros dos elementos con posición 0 y 2 sin el último elemento (2)\n",
    "List2 = [[3, 4],List]                   # Hacer una lista de listas\n"
   ]
  },
  {
   "cell_type": "code",
   "execution_count": null,
   "metadata": {},
   "outputs": [],
   "source": [
    "# Tuplas\n",
    "c = (0, 1, 2, 3, 'cuatro', 'cinco')\n",
    "print(c[0])      # Selecciona el primer elemento de la tupla\n",
    "print(c[5])      # Selecciona el último elemento de la tupla\n",
    "print(c[0:2])    # Selecciona los primeros dos elementos con posición 0 y 2 sin el último elemento (2)\n",
    "print(List, type(List))\n",
    "print(c, type(c))\n"
   ]
  },
  {
   "cell_type": "code",
   "execution_count": null,
   "metadata": {},
   "outputs": [],
   "source": [
    "#Diferencia entre tuplas y listas\n",
    "al = [\"apples\", \"bananas\", \"oranges\"]\n",
    "print(al)\n",
    "al[0] = \"berries\"\n",
    "print(al)\n"
   ]
  },
  {
   "cell_type": "code",
   "execution_count": null,
   "metadata": {},
   "outputs": [],
   "source": [
    "at = (\"apples\", \"bananas\", \"oranges\")\n",
    "at[0] = \"berries\""
   ]
  },
  {
   "cell_type": "markdown",
   "metadata": {
    "id": "8lZ0HNCvoOIp"
   },
   "source": [
    "## Operaciones básicas\n",
    "Las operaciones básicas en Python, se muestran en la siguiente tabla, en donde las **asignaciones aumentadas (a += b)** son equivalentes a las operaciones aritméticas **(a = a + b)**. Algunas operaciones también estan definidas para caracteres.\n",
    "\\begin{array}{|c|l|} \\hline\n",
    "Símbolo   & Operación\\text{ }aumentada & Operación &      \\\\ \\hline\n",
    "+         & a\\text{ } += b             & a = a + b  & Suma \\\\ \\hline\n",
    "-         & a\\text{ } -= b             & a = a - b  & Resta \\\\ \\hline\n",
    "*         & a\\text{ } *= b             & a = a * b  & Mulitiplicación\\\\ \\hline\n",
    "/         & a\\text{ } /= b             & a = a / b  & División \\\\ \\hline\n",
    "/         & a\\text{ } //= b             & a = a // b  & División \\text{ } truncada \\\\ \\hline\n",
    "**        & a\\text{ } **= b            & a = a ** b & Esponente \\\\ \\hline\n",
    "\\%         & a\\text{ } \\%= b           & a = a \\% b & División \\text{ } modular\\\\ \\hline\n",
    "\\end{array}\n",
    "\n"
   ]
  },
  {
   "cell_type": "code",
   "execution_count": null,
   "metadata": {
    "id": "V743TbJQoOIq",
    "outputId": "fc3e398f-3c36-475d-de02-66ab1072c963"
   },
   "outputs": [],
   "source": [
    "# Operaciones básicas\n",
    "n_1 = 2\n",
    "n_2 = 3\n",
    "print('n_1 = {}, n_2 = {},\\nn_1 + n_2 = {}'.format(n_1,n_2,n_1 + n_2))"
   ]
  },
  {
   "cell_type": "code",
   "execution_count": null,
   "metadata": {},
   "outputs": [],
   "source": [
    "n_1 += n_2\n",
    "print('n_1 += n_2\\n=> n_1 = {}'.format(n_1))"
   ]
  },
  {
   "cell_type": "code",
   "execution_count": null,
   "metadata": {},
   "outputs": [],
   "source": [
    "n_1 = 2\n",
    "n_2 = 3\n",
    "print('n_1 * n_2 = {}'.format(n_1 * n_2))\n",
    "print('n_2 / n_1 = {}'.format(n_2 / n_1))\n",
    "print('n_2 // n_1 = {}'.format(n_2 // n_1))\n",
    "print('n_1 ** n_2 = {}'.format(n_1 ** n_2))\n",
    "print('n_1 % n_2 = {} \\n'.format(n_2 // n_1))"
   ]
  },
  {
   "cell_type": "code",
   "execution_count": null,
   "metadata": {},
   "outputs": [],
   "source": [
    "s_1  = 'uno'\n",
    "s_2 = 'dos'\n",
    "print('s_1 = {}, s_2 = {},\\ns1 + s_2 = {}'.format(s_1,s_2,s_1 + s_2))"
   ]
  },
  {
   "cell_type": "markdown",
   "metadata": {
    "id": "U6CeQ6CXoOIs"
   },
   "source": [
    "## Operadores de comparación\n",
    "Además de las operaciones básicas, las variables se pueden comparar, como se muestra a continuación\n",
    "\\begin{array}{|c|l|} \\hline\n",
    "Símbolo  & Operación      \\\\ \\hline\n",
    "<        & \\text{Menor que} \\\\ \\hline\n",
    ">        & \\text{Mayor que} \\\\ \\hline\n",
    "<=       & \\text{Menor o igual que}\\\\ \\hline\n",
    ">=       & \\text{Mayor o igual que} \\\\ \\hline\n",
    "==       & \\text{Igual a}\\\\ \\hline\n",
    "=!       & \\text{Diferente de}\\\\ \\hline\n",
    "\\end{array}"
   ]
  },
  {
   "cell_type": "code",
   "execution_count": null,
   "metadata": {
    "id": "P6mrNEmGoOIt",
    "outputId": "fffdc76f-c66d-415f-aff5-722e5b7b85d3"
   },
   "outputs": [],
   "source": [
    "a = 2\n",
    "b = 1.99\n",
    "c = '2'\n",
    "print('a = {}, b = {}, c  = \\'{}\\' '.format(a,b,c))\n",
    "print('a > b,  {}'.format(a > b))\n",
    "print('a < b,  {}'.format(a < b))\n",
    "print('a == c, {}'.format(a == c))\n",
    "print('a != c, {}'.format(a != c))"
   ]
  },
  {
   "cell_type": "markdown",
   "metadata": {
    "id": "2P-Z1kQwoOIw"
   },
   "source": [
    "## Funciones\n",
    "En Python se pueden crear funciones si se requiere realizar una operacion constantemente. Las funciones tienen elementos de entrada (inputs) y de salida (outputs) que se extraen con la función return. La sintaxis es la siguiente:\n",
    "\\begin{array}{ll}\n",
    "def   & función(input):     \\\\\n",
    "      & \\text{operaciones} \\\\\n",
    "      & return(output)     \\\\\n",
    "\\end{array}\n",
    "La *indentación* es muy importante en Python, al crear funciones, estas tienen que estar bien indentadas.\n",
    "### Librerias\n",
    "Python cuenta con varias librerias que contienen funciones predefinidas. Para usarlas, se tienen que importar con la función *import*. En este curso se utilizará una libreria con funciones matemáticas [numpy] y una librería para graficar [matplotlib]. Si el nombre de la librería es muy largo, se pueden renombrar con *as*.\n",
    "\n",
    "\\begin{array}{llL}\n",
    "import  & \\text{numpy }            &    as &   \\text{ np}\\\\\n",
    "import  & \\text{matplotlib.pyplot }&    as &   \\text{ plt}\\\\\n",
    "\\end{array}\n",
    "\n",
    "[numpy]: https://www.numpy.org/devdocs/user/quickstart.html\n",
    "[matplotlib]: https://matplotlib.org/users/index.html\n",
    "\n",
    "#### Numpy\n",
    "Con la librería de numpy se pueden crear vectores y matrices de la siguiente forma:\n",
    "* Vector con N entradas x = np.array([1, 2, ..., N])\n",
    "* Vector con N ceros    x = np.zeros(N)\n",
    "* Vector con N unos     x = np.ones(N)\n",
    "* Matriz con (N,N) entradas A = np.array(([1, 2, ..., N],[1, 2, ..., N],[1, 2, ..., N],[1, 2, ..., N]))\n",
    "\n",
    "#### Matplotlib\n",
    "Esta librería sirve para graficar funciones, la sintaxis básica es:\n",
    "* Graficar x vs y\n",
    "\n",
    "*plt.plot(x,y)*\n",
    "* Agregar título\n",
    "\n",
    "*plt.title('Grafica de x vs y', fontsize=16)*\n",
    "* Agregar nombre al eje x\n",
    "\n",
    "*plt.xlabel('Valores', fontsize=14)*\n",
    "* Agregar nombre al eje y\n",
    "\n",
    "*plt.ylabel('Promedios', fontsize=14)*\n"
   ]
  },
  {
   "cell_type": "code",
   "execution_count": null,
   "metadata": {
    "id": "hpV0RuhUoOIx",
    "outputId": "6c80f999-be36-494c-9b7f-a35d041aed17"
   },
   "outputs": [],
   "source": [
    "import numpy as np\n",
    "import matplotlib.pyplot as plt\n",
    "N = 4\n",
    "x = np.array([1, 2, 3, 4])\n",
    "print('x = {}'.format(x))\n",
    "x = np.zeros(N)\n",
    "print('x = {}'.format(x))\n",
    "x = np.ones(N)\n",
    "print('x = {}'.format(x))\n",
    "A = np.array(([1, 2, 3, 4],[1, 2, 3, 4],[1, 2, 3, 4],[1, 2, 3, 4]))\n",
    "print('A = \\n{}'.format(A))\n",
    "\n",
    "x = np.array([x for x in range(100)])\n",
    "y = 2 * x**2\n",
    "plt.plot(x,y)\n",
    "plt.title('Grafica de x vs 2*x^2', fontsize=16)\n",
    "plt.xlabel('x', fontsize=14)\n",
    "plt.ylabel('2*x^2', fontsize=14)"
   ]
  },
  {
   "cell_type": "markdown",
   "metadata": {
    "id": "j3tTnE5LoOI1"
   },
   "source": [
    "#### Ejercicio\n",
    "#1. Crear funciones que calculen los promedios A, aritmético y H, armónico del vector x  = [1, 2, 1, 2, 1, 2, 1, 2, 1]\n",
    "```\n",
    "def Av_A(y)    # y_av = (y(i)+y(i+1))/2\n",
    "    return y_av\n",
    "\n",
    "def Av_H(y):   # y_av = 2*(y(i)*y(i+1))/(y(i)+y(i+1))\n",
    "    return y_av\n",
    "```"
   ]
  },
  {
   "cell_type": "code",
   "execution_count": null,
   "metadata": {
    "colab": {
     "base_uri": "https://localhost:8080/",
     "height": 403
    },
    "id": "xF0pCdydoOI1",
    "outputId": "d995ff96-e81d-4d45-b271-5c89dd0db959"
   },
   "outputs": [],
   "source": [
    "#### Ejercicio\n",
    "#1. Crear funciones que calculen los promedios A, aritmético y H, armónico del vector x  = [1, 2, 1, 2, 1, 2, 1, 2, 1]\n",
    "\n",
    "import numpy as np\n",
    "import matplotlib.pyplot as plt\n",
    "\n",
    "# Funciones que calculan promedios (A, aritmético, H, armónico)\n",
    "def Av_A(y):    # y_av = (y(i)+y(i+1))/2\n",
    "\n",
    "    return y_av\n",
    "def Av_H(y):   # y_av = 2*(y(i)*y(i+1))/(y(i)+y(i+1))\n",
    "\n",
    "    return y_av\n",
    "\n"
   ]
  },
  {
   "cell_type": "code",
   "execution_count": null,
   "metadata": {},
   "outputs": [],
   "source": [
    "# Funcion que selecciona el tipo de promedio ('A', aritmético, 'H', armónico)\n",
    "x  = np.array([1, 2, 1, 2, 1, 2, 1, 2, 1])\n",
    "Prom_A = Av_A(x)\n",
    "Aritmetico, =plt.plot(Prom_A, label='Aritmético')\n",
    "print('El promedio aritmético es x_A = {}\\n'.format(Prom_A))\n",
    "Prom_H = Av_H(x)\n",
    "Armonico, = plt.plot(Prom_H, label='Armónico')\n",
    "print('El promedio armónico es x_H = {}\\n'.format(Prom_H))\n",
    "plt.legend(handles=[Aritmetico, Armonico])\n",
    "# Add title and axis names\n",
    "plt.title('Promedio', fontsize=16)\n",
    "plt.xlabel('Valores', fontsize=14)\n",
    "plt.ylabel('Promedios', fontsize=14)"
   ]
  },
  {
   "cell_type": "markdown",
   "metadata": {
    "id": "kPf53nOUoOI4"
   },
   "source": [
    "## Condicionales\n",
    "Los condicionales se usan para realizar una operación si (if) algo pasa, la sintaxis es la siguiente.\n",
    "### If\n",
    "\\begin{array}{ll}\n",
    "if    & condición:     \\\\\n",
    "      & \\text{operaciones} \\\\\n",
    "elif  & condición:     \\\\\n",
    "      & \\text{operaciones} \\\\\n",
    "else: & \\\\\n",
    "      & \\text{operaciones} \\\\\n",
    "\\end{array}\n",
    "\n",
    "### Condiciones posibles:\n",
    "* Igual: a == b\n",
    "* No igual: a != b\n",
    "* Menor que: a < b\n",
    "* Menor o igual que: a <= b\n",
    "* Mayor que: a > b\n",
    "* Mayor o igual que: a >= b\n"
   ]
  },
  {
   "cell_type": "code",
   "execution_count": null,
   "metadata": {
    "id": "IC_dvF4aoZvH"
   },
   "outputs": [],
   "source": [
    "# Ejemplo\n",
    "a = 33\n",
    "b = 200\n",
    "if b > a:\n",
    "  print(\"b es mayor que a\")\n",
    "else:\n",
    "  print('b NO es mayor que a')"
   ]
  },
  {
   "cell_type": "markdown",
   "metadata": {
    "id": "Y4IMufYnoOI7"
   },
   "source": [
    "## Ciclos\n",
    "### While\n",
    "\\begin{array}{ll}\n",
    "while & condición:     \\\\\n",
    "      & \\text{operaciones} \\\\\n",
    "else: & \\\\\n",
    "      & \\text{operaciones} \\\\\n",
    "\\end{array}\n",
    "\n",
    "\n",
    "\\begin{array}{ll}\n",
    "while & \\text{(condición1) and/or (condición2)}:     \\\\\n",
    "      & \\text{operaciones} \\\\\n",
    "\\end{array}\n",
    "\n",
    "#### Ejercicios\n",
    "1. Hacer un programa usando *while* que sume uno a la variable contador, sin pasar de MaxIter = 10 iteraciones, y que imprima el resultado en cada iteración\n"
   ]
  },
  {
   "cell_type": "code",
   "execution_count": null,
   "metadata": {
    "id": "N9AjBsh6oOI7",
    "outputId": "9f78b46f-250c-4226-90c0-a30da1e7e89a"
   },
   "outputs": [],
   "source": []
  },
  {
   "cell_type": "markdown",
   "metadata": {
    "id": "7yXf1tNYoOJH"
   },
   "source": [
    "Los ciclos se pueden parar con la funcion $break$ y parte del ciclo se puede saltar con la función $continue$."
   ]
  },
  {
   "cell_type": "code",
   "execution_count": null,
   "metadata": {
    "id": "xGi4mmMYoOJH",
    "outputId": "58e129b7-54ee-4f92-c198-809d59b4de76"
   },
   "outputs": [],
   "source": [
    "MaxIter  = 10\n",
    "contador = 0\n",
    "\n",
    "for i in range(0,MaxIter-1):\n",
    "    contador +=  1\n",
    "    print('contador = {}, p = {} '.format(contador,p))\n",
    "    if contador > 5:\n",
    "        break"
   ]
  },
  {
   "cell_type": "code",
   "execution_count": null,
   "metadata": {
    "id": "4I7-5gSOoOJJ",
    "outputId": "707f1ec5-fd66-4483-cbf1-2f6f382d0a85"
   },
   "outputs": [],
   "source": [
    "MaxIter  = 10\n",
    "contador = 0\n",
    "Tol      = 1e-7\n",
    "p = 1\n",
    "for i in range(0,MaxIter-1):\n",
    "    contador +=  1\n",
    "    if contador == 5:\n",
    "        continue \n",
    "    print('contador = {}, p = {} '.format(contador,p))"
   ]
  }
 ],
 "metadata": {
  "colab": {
   "provenance": []
  },
  "kernelspec": {
   "display_name": "Python 3 (ipykernel)",
   "language": "python",
   "name": "python3"
  },
  "language_info": {
   "codemirror_mode": {
    "name": "ipython",
    "version": 3
   },
   "file_extension": ".py",
   "mimetype": "text/x-python",
   "name": "python",
   "nbconvert_exporter": "python",
   "pygments_lexer": "ipython3",
   "version": "3.12.4"
  }
 },
 "nbformat": 4,
 "nbformat_minor": 4
}
