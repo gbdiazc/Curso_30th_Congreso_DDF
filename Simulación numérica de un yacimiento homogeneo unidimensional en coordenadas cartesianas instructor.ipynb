{
 "cells": [
  {
   "cell_type": "markdown",
   "metadata": {},
   "source": [
    "<center>\n",
    "\n",
    "# 30vo. CONGRESO DE LA DIVISIÓN DE DINÁMICA DE FLUIDOS - SMF\n",
    "\n",
    "\n",
    "## Curso 1. Introducción a la simulación de fluidos en medios porosos con Python\n",
    "\n",
    "### Dra. Gabriela Berenice Díaz Cortés, IMP (gbdiaz@imp.mx)\n",
    "\n",
    "### Mtra. Zoila Sanchez Lopez, IMP  (poszsanchez@imp.mx)"
   ]
  },
  {
   "cell_type": "markdown",
   "metadata": {},
   "source": [
    "# Caso de estudio: Simulación numérica de un yacimiento homogeneo unidimensional en coordenadas cartesianas\n",
    "\n",
    "## Ecuaciones que rigen el flujo de fluidos en medio poroso                \n",
    "\n",
    "El flujo en un medio poroso es regido por las ecuaciones de balance de masa y Darcy, que combinadas dan lugar a la siguiente ecuación \n",
    "\n",
    "\n",
    "$$\\frac{\\partial}{\\partial t}(\\phi \\rho)-\\nabla \\cdot \\left( \\rho \\frac{K}{\\mu}\\cdot \\left( \\nabla p-\\rho g \\Delta z\\right)\\right\n",
    ")=\\rho q\\qquad (Ec. 1)$$\n",
    "\n",
    "en donde la densidad $\\rho$ y viscosidad $\\mu$ del fluido, y la porosidad $\\phi$ de la roca pueden depender de la presión.\n",
    "\n",
    "\n",
    "Para resolver esta ecuación numéricamente comenzaremos resolviendo un versión simplificada, elegiremos un fluido y una roca incompresibles, lo que implica que $\\frac{\\partial}{\\partial t}(\\phi \\rho) =0,$ modelaremos flujo en una dimensión ($x$) y omitiremos fuerzas gravitacionales. El sistema a resoves después de estas simplificaciones es:\n",
    "\n",
    "$$-\\frac{d}{dx}  \\left( \\rho \\frac{K}{\\mu}\\cdot\\frac{d}{dx} p\\right)=\\rho q\\qquad (Ec. 2)$$\n",
    "En el desarrollo del simulador usaremos el método de diferencias finitas para la derivada espacial de la ecuación (Eq.2). \n",
    "Selecionando la permeabilidad ($K$) y la viscosidad ($\\mu$) constantes, definimos las mobilidades ($\\lambda$), como\n",
    " $$\\lambda = \\frac{K}{\\mu},$$ \n",
    " con esta definición, la ecuación \\eqref{eq:spi} se puede reescribir como:\n",
    " \\begin{equation} \n",
    "-\\frac{d}{dx}  \\left(\\lambda\\cdot\\frac{d}{dx} p\\right)= q\n",
    "\\end{equation}\n",
    "Discretizando con diferencias finitas centradas en la celda, para la celda $i$ obtenemos:\n",
    "\\begin{equation*}\n",
    "-p_{i-1}\\frac{\\lambda_{i-\\frac{1}{2}}}{\\left( \\Delta x\\right)^2}  + p_{i} \\frac{\\lambda_{i+\\frac{1}{2}}+\\lambda_{i-\\frac{1}{2}}}{\\left( \\Delta x\\right)^2}-p_{i+1}\\frac{\\lambda_{i+\\frac{1}{2}}}{\\left( \\Delta x\\right)^2},\n",
    "\\end{equation*}\n",
    "en donde $\\lambda_{i+\\frac{1}{2}}$ es el promedio armónico de la mobilidad. Esta discretización da lugar al sistema\n",
    "$$\\mathbf{T}\\mathbf{p}=\\mathbf{R},$$ en donde $$T_{i+1/2} =\\frac{\\lambda_{i+1/2}}{\\left( \\Delta x\\right)^2}$$\n",
    "con $\\mathbf{p}$ el vector de presiones y $\\mathbf{R}$ el vector del lado derecho. \n",
    "\n",
    " Para las celdas en la frontera con condiciones de Dirichlet, se tiene $$T_{1} =\\frac{2\\lambda_{1/2}}{\\left( \\Delta x\\right)^2}, \\qquad T_{N} =\\frac{2\\lambda_{N}}{\\left( \\Delta x\\right)^2}.$$\n"
   ]
  },
  {
   "cell_type": "markdown",
   "metadata": {
    "id": "vprHSfYOo0lc"
   },
   "source": [
    "## Simulación\n",
    "\n",
    "Ahora comenzaremos el simulador. Modelaremos el flujo de un fluido en un medio poroso con permeabilidad y viscosidad constantes y condiciones de Dirichlet en las fronteras, i.e. presiones fijas. El yacimiento tiene una longitud de 10 metros y usaremos una malla con 100 puntos. Los parametros utilizados se resumen a continuación.\n",
    "* $K   = 1$\n",
    "* $\\mu = 1$\n",
    "* $L   = 10 [m]$\n",
    "* $N = 100$\n",
    "* $P_R = 10,$ $P_L = 0$,    \n",
    "\n",
    "  \n",
    "<p> Construye el vector de transmisibilidades.</p>  \n",
    "<p>&nbsp; &nbsp; 1. Crear los vectores de permeabilidad y viscosidad ($\\mathbf{K}, \\mu \\in \\mathbb{N}^{N}$).</p>\n",
    "<p>&nbsp; &nbsp; 2. Construir el vector de transmisibilidades ($\\lambda = \\frac{\\mathbf{K}}{\\mu}  \\in \\mathbb{N}^{N}$).</p>\n",
    "<p>&nbsp; &nbsp; 3. Calcular los promedios armónico y aritmético del vector de transmisibilidades </p>\n",
    "\n",
    "<p>&nbsp; &nbsp; $\\lambda_{av} \\in \\mathbb{N}^{N+1},\\quad$     $\\lambda_{av}(1) = \\lambda(1),\\quad$   $\\lambda_{av}(N) = \\lambda(N)$.</p>\n",
    "    \n",
    "<p>&nbsp; &nbsp; 4.  Resolver el sistema lineal con $p = numpy.linalg.solve(T, R)$ . </p>\n",
    "<p>&nbsp; &nbsp; 5. Graficar la presión.</p>\n"
   ]
  },
  {
   "cell_type": "code",
   "execution_count": 56,
   "metadata": {
    "colab": {
     "base_uri": "https://localhost:8080/",
     "height": 687
    },
    "id": "2ekKEiLwo0ld",
    "outputId": "54909c00-3343-4d6a-80f5-a0e1e1865c1d"
   },
   "outputs": [],
   "source": [
    "from IPython.display import Markdown\n",
    "\n",
    "import numpy as np\n",
    "import matplotlib.pyplot as plt\n",
    "\n",
    "# Definicion de funciones\n",
    "## Funciones para obtener el promedio (A, aritmético, H, armónico)\n",
    "def Av_A(y):\n",
    "    N = len(y)\n",
    "    y_av      = np.zeros(N+1)\n",
    "    y_av[0]   = y[0]\n",
    "    y_av[N]   = y[N-1]\n",
    "    y_av[1:N] = (y[1:N] + y[0:N-1]) / 2\n",
    "    return(y_av)\n",
    "def Av_H(y):\n",
    "    N = len(y)\n",
    "    y_av      = np.zeros(N+1)\n",
    "    y_av[0]   = y[0]\n",
    "    y_av[N]   = y[N-1]\n",
    "    y_av[1:N] = 2 * (y[1:N] * y[0:N-1]) / (y[1:N] + y[0:N-1])\n",
    "    return(y_av)\n",
    "\n",
    "#%% Funcion que calcula las transmisibilidades\n",
    "def Trans(y,DX):\n",
    "    N = len(y)\n",
    "    T = np.zeros(N)    \n",
    "    DX2 = DX**2\n",
    "    T[0:N] = y[0:N]/DX2\n",
    "    return(T)\n",
    "\n",
    "# Calcular la matriz de transmisibilidades\n",
    "# Usar condiciones de frontera Dirichlet\n",
    "def A_mat_D(T):\n",
    "    N = len(T)-1\n",
    "    A = np.zeros((N,N))    # Prealocate A\n",
    "    for i in range(0,N):\n",
    "        if (i > 0):   # Hay vecino a la izquierda\n",
    "            # T(i) * (p(i)-p(i-1))\n",
    "            A[i,i]   =  T[i]\n",
    "            A[i,i-1] = -T[i]\n",
    "        if (i < N-1): # Hay vecino a la derecha\n",
    "            # T(i) * (p(i)-p(i+1))\n",
    "            A[i,i]  +=  T[i+1]\n",
    "            A[i,i+1] = -T[i+1]\n",
    "    # Condiciones de frontera de Dirichlet\n",
    "    # Condición izquierda\n",
    "    i = 0\n",
    "    A[i,i]  +=   2 * T[i]\n",
    "    i = N-1\n",
    "    # Condición Derecha\n",
    "    A[i,i]   +=  T[i] + T[i-1]\n",
    "    A[i,i-1] +=  T[i] - T[i-1]\n",
    "    return(A)\n",
    "    \n",
    "# Vector del lado derecho\n",
    "def bc_D(T,PL,PR):\n",
    "    N = len(T)-1\n",
    "    q=np.zeros(N)\n",
    "    # Condición izquierda\n",
    "    i = 0\n",
    "    q[i] = 2* T[i] * PL\n",
    "    # Condición Derecha\n",
    "    i = N-1\n",
    "    q[i] = 2* T[i] * PR\n",
    "    #print('D',q)\n",
    "    return(q)"
   ]
  },
  {
   "cell_type": "code",
   "execution_count": 54,
   "metadata": {},
   "outputs": [],
   "source": [
    "##--------------------------------------- Simulación------------------------------------------------------------------\n",
    "##--------------------------------------------------------------------------------------------------------------------\n",
    "## Inicializacion de variables\"\n",
    "## Variables espaciales\n",
    "L = 1.0    # Longitud del yacimiento [m]\n",
    "N = 10    # Numero de celdas\n",
    "DX = L/N   # Tamaño de la celda\n",
    "x  = np.linspace(DX/2, L - DX/2, N)   # Centro de las celdas\n",
    "xi = np.linspace(0, L, N+1)           # Ubicacion de las interfases\n",
    "x_p= np.linspace(0, L , N+2)          # Ubicación de las presiones, incluyendo fronteras\n",
    "\n",
    "## Propiedades del fluido\n",
    "mu    = 1 * np.ones(N)\n",
    "K     = 1 * np.ones(N)\n",
    "\n",
    "# Presiones\n",
    "p = np.zeros(N)\n",
    "# Vector lado derecho\n",
    "R = np.zeros(N)\n",
    "\n",
    "# Flujo en las fronteras, condiciones de Neumann\n",
    "q_b = np.zeros(2)\n",
    "q_b[0] = -3   # Flujo en el lado izquierdo\n",
    "q_b[1] = 3    # Flujo en el lado derecho\n",
    "# Presiones, condiciones de Dirichlet\n",
    "PL = 0.      # Presión en el lado izquierdo\n",
    "PR = 10.      # Presión en el lado derecho\n",
    "\n",
    "\n",
    "# Cálculo de las transmisibilidades\n",
    "Lambda_0 = np.ones(N) * K/mu\n",
    "#Lambda_H = Av_H(Lambda)\n",
    "Lambda = Lambda_0\n",
    "Lambda_A = Av_A(Lambda)\n",
    "T = Trans(Lambda_A, DX)\n",
    "A_D = A_mat_D(T)\n",
    "R_D = bc_D(T,PL,PR)\n",
    "\n",
    "p_D = np.linalg.solve(A_D,R_D)\n"
   ]
  },
  {
   "cell_type": "code",
   "execution_count": 49,
   "metadata": {},
   "outputs": [
    {
     "data": {
      "text/plain": [
       "Text(0, 0.5, 'Presión ')"
      ]
     },
     "execution_count": 49,
     "metadata": {},
     "output_type": "execute_result"
    },
    {
     "data": {
      "image/png": "[encoded data removed]",
      "text/plain": [
       "<Figure size 640x480 with 1 Axes>"
      ]
     },
     "metadata": {},
     "output_type": "display_data"
    }
   ],
   "source": [
    "# Graficar la presión\n",
    "plt.plot(x,p_D)\n",
    "plt.title('Presión, condiciones Dirichlet', fontsize=16)\n",
    "plt.xlabel('Longitud yacimiento [m]', fontsize=14)\n",
    "plt.ylabel('Presión ', fontsize=14)"
   ]
  },
  {
   "cell_type": "code",
   "execution_count": null,
   "metadata": {},
   "outputs": [],
   "source": []
  }
 ],
 "metadata": {
  "colab": {
   "provenance": []
  },
  "kernelspec": {
   "display_name": "Python 3 (ipykernel)",
   "language": "python",
   "name": "python3"
  },
  "language_info": {
   "codemirror_mode": {
    "name": "ipython",
    "version": 3
   },
   "file_extension": ".py",
   "mimetype": "text/x-python",
   "name": "python",
   "nbconvert_exporter": "python",
   "pygments_lexer": "ipython3",
   "version": "3.12.4"
  }
 },
 "nbformat": 4,
 "nbformat_minor": 4
}
